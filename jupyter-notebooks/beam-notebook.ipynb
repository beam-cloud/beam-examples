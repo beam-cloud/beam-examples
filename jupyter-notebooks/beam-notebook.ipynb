{
 "cells": [
  {
   "cell_type": "code",
   "execution_count": 1,
   "id": "851fc5b6-5d0a-4f13-9efe-af24656bc54f",
   "metadata": {},
   "outputs": [],
   "source": [
    "from beam import function, Image\n",
    "\n",
    "@function(cpu=2, memory=\"1Gi\", image=Image(python_packages=[\"torch\"]))\n",
    "def handler():\n",
    "    x = 12\n",
    "    y = 1023\n",
    "    return {\"result\": x * y} "
   ]
  },
  {
   "cell_type": "code",
   "execution_count": 2,
   "id": "fb3f1004-bbea-45ce-9041-c728720b402b",
   "metadata": {},
   "outputs": [
    {
     "data": {
      "text/html": [
       "<pre style=\"white-space:pre;overflow-x:auto;line-height:normal;font-family:Menlo,'DejaVu Sans Mono',consolas,'Courier New',monospace\"><span style=\"color: #4ccacc; text-decoration-color: #4ccacc; font-weight: bold\">=&gt; Building image</span> \n",
       "</pre>\n"
      ],
      "text/plain": [
       "\u001b[1;38;2;76;202;204m=> Building image\u001b[0m \n"
      ]
     },
     "metadata": {},
     "output_type": "display_data"
    },
    {
     "data": {
      "text/html": [
       "<pre style=\"white-space:pre;overflow-x:auto;line-height:normal;font-family:Menlo,'DejaVu Sans Mono',consolas,'Courier New',monospace\"><span style=\"color: #4ccacc; text-decoration-color: #4ccacc; font-weight: bold\">=&gt; Using cached image</span> \n",
       "</pre>\n"
      ],
      "text/plain": [
       "\u001b[1;38;2;76;202;204m=> Using cached image\u001b[0m \n"
      ]
     },
     "metadata": {},
     "output_type": "display_data"
    },
    {
     "data": {
      "text/html": [
       "<pre style=\"white-space:pre;overflow-x:auto;line-height:normal;font-family:Menlo,'DejaVu Sans Mono',consolas,'Courier New',monospace\"><span style=\"color: #4ccacc; text-decoration-color: #4ccacc; font-weight: bold\">=&gt; Syncing files</span> \n",
       "</pre>\n"
      ],
      "text/plain": [
       "\u001b[1;38;2;76;202;204m=> Syncing files\u001b[0m \n"
      ]
     },
     "metadata": {},
     "output_type": "display_data"
    },
    {
     "data": {
      "text/html": [
       "<pre style=\"white-space:pre;overflow-x:auto;line-height:normal;font-family:Menlo,'DejaVu Sans Mono',consolas,'Courier New',monospace\"><span style=\"color: #7f7f7f; text-decoration-color: #7f7f7f\">Reading .beta9ignore file</span>\n",
       "</pre>\n"
      ],
      "text/plain": [
       "\u001b[2mReading .beta9ignore file\u001b[0m\n"
      ]
     },
     "metadata": {},
     "output_type": "display_data"
    },
    {
     "data": {
      "text/html": [
       "<pre style=\"white-space:pre;overflow-x:auto;line-height:normal;font-family:Menlo,'DejaVu Sans Mono',consolas,'Courier New',monospace\"><span style=\"color: #7f7f7f; text-decoration-color: #7f7f7f\">Collecting files from /Users/beta9/beam/examples/jupyter-notebooks</span>\n",
       "</pre>\n"
      ],
      "text/plain": [
       "\u001b[2mCollecting files from /Users/beta9/beam/examples/jupyter-notebooks\u001b[0m\n"
      ]
     },
     "metadata": {},
     "output_type": "display_data"
    },
    {
     "data": {
      "text/html": [
       "<pre style=\"white-space:pre;overflow-x:auto;line-height:normal;font-family:Menlo,'DejaVu Sans Mono',consolas,'Courier New',monospace\"><span style=\"color: #7f7f7f; text-decoration-color: #7f7f7f\">Added /Users/beta9/beam/examples/jupyter-notebooks/beam-test.ipynb</span>\n",
       "</pre>\n"
      ],
      "text/plain": [
       "\u001b[2mAdded /Users/beta9/beam/examples/jupyter-notebooks/beam-test.ipynb\u001b[0m\n"
      ]
     },
     "metadata": {},
     "output_type": "display_data"
    },
    {
     "data": {
      "text/html": [
       "<pre style=\"white-space:pre;overflow-x:auto;line-height:normal;font-family:Menlo,'DejaVu Sans Mono',consolas,'Courier New',monospace\"><span style=\"color: #7f7f7f; text-decoration-color: #7f7f7f\">Added /Users/beta9/beam/examples/jupyter-notebooks/tmpz4ftjb3z.py</span>\n",
       "</pre>\n"
      ],
      "text/plain": [
       "\u001b[2mAdded /Users/beta9/beam/examples/jupyter-notebooks/tmpz4ftjb3z.py\u001b[0m\n"
      ]
     },
     "metadata": {},
     "output_type": "display_data"
    },
    {
     "data": {
      "text/html": [
       "<pre style=\"white-space:pre;overflow-x:auto;line-height:normal;font-family:Menlo,'DejaVu Sans Mono',consolas,'Courier New',monospace\"><span style=\"color: #7f7f7f; text-decoration-color: #7f7f7f\">Added /Users/beta9/beam/examples/jupyter-notebooks/.ipynb_checkpoints/beam-test-checkpoint.ipynb</span>\n",
       "</pre>\n"
      ],
      "text/plain": [
       "\u001b[2mAdded /Users/beta9/beam/examples/jupyter-notebooks/.ipynb_checkpoints/beam-test-checkpoint.ipynb\u001b[0m\n"
      ]
     },
     "metadata": {},
     "output_type": "display_data"
    },
    {
     "data": {
      "text/html": [
       "<pre style=\"white-space:pre;overflow-x:auto;line-height:normal;font-family:Menlo,'DejaVu Sans Mono',consolas,'Courier New',monospace\"><span style=\"color: #7f7f7f; text-decoration-color: #7f7f7f\">Collected object is 10.60 KB</span>\n",
       "</pre>\n"
      ],
      "text/plain": [
       "\u001b[2mCollected object is 10.60 KB\u001b[0m\n"
      ]
     },
     "metadata": {},
     "output_type": "display_data"
    },
    {
     "data": {
      "text/html": [
       "<pre style=\"white-space:pre;overflow-x:auto;line-height:normal;font-family:Menlo,'DejaVu Sans Mono',consolas,'Courier New',monospace\"><span style=\"color: #4ccacc; text-decoration-color: #4ccacc; font-weight: bold\">=&gt; Uploading</span> \n",
       "</pre>\n"
      ],
      "text/plain": [
       "\u001b[1;38;2;76;202;204m=> Uploading\u001b[0m \n"
      ]
     },
     "metadata": {},
     "output_type": "display_data"
    },
    {
     "data": {
      "application/vnd.jupyter.widget-view+json": {
       "model_id": "0bc18e5b18a74a50a0b12830bd72a042",
       "version_major": 2,
       "version_minor": 0
      },
      "text/plain": [
       "Output()"
      ]
     },
     "metadata": {},
     "output_type": "display_data"
    },
    {
     "data": {
      "text/html": [
       "<pre style=\"white-space:pre;overflow-x:auto;line-height:normal;font-family:Menlo,'DejaVu Sans Mono',consolas,'Courier New',monospace\"></pre>\n"
      ],
      "text/plain": []
     },
     "metadata": {},
     "output_type": "display_data"
    },
    {
     "data": {
      "text/html": [
       "<pre style=\"white-space:pre;overflow-x:auto;line-height:normal;font-family:Menlo,'DejaVu Sans Mono',consolas,'Courier New',monospace\">\n",
       "</pre>\n"
      ],
      "text/plain": [
       "\n"
      ]
     },
     "metadata": {},
     "output_type": "display_data"
    },
    {
     "data": {
      "text/html": [
       "<pre style=\"white-space:pre;overflow-x:auto;line-height:normal;font-family:Menlo,'DejaVu Sans Mono',consolas,'Courier New',monospace\"><span style=\"color: #4ccacc; text-decoration-color: #4ccacc; font-weight: bold\">=&gt; Files synced</span> \n",
       "</pre>\n"
      ],
      "text/plain": [
       "\u001b[1;38;2;76;202;204m=> Files synced\u001b[0m \n"
      ]
     },
     "metadata": {},
     "output_type": "display_data"
    },
    {
     "data": {
      "text/html": [
       "<pre style=\"white-space:pre;overflow-x:auto;line-height:normal;font-family:Menlo,'DejaVu Sans Mono',consolas,'Courier New',monospace\"><span style=\"color: #4ccacc; text-decoration-color: #4ccacc; font-weight: bold\">=&gt; Running function: &lt;tmpz4ftjb3z:handler&gt;</span> \n",
       "</pre>\n"
      ],
      "text/plain": [
       "\u001b[1;38;2;76;202;204m=> Running function: \u001b[0m\u001b[1;38;2;76;202;204m<\u001b[0m\u001b[1;38;2;76;202;204mtmpz4ftjb3z:handler\u001b[0m\u001b[1;38;2;76;202;204m>\u001b[0m \n"
      ]
     },
     "metadata": {},
     "output_type": "display_data"
    },
    {
     "data": {
      "application/vnd.jupyter.widget-view+json": {
       "model_id": "",
       "version_major": 2,
       "version_minor": 0
      },
      "text/plain": [
       "Output()"
      ]
     },
     "metadata": {},
     "output_type": "display_data"
    },
    {
     "data": {
      "text/html": [
       "<pre style=\"white-space:pre;overflow-x:auto;line-height:normal;font-family:Menlo,'DejaVu Sans Mono',consolas,'Courier New',monospace\"><span style=\"color: #4ccacc; text-decoration-color: #4ccacc; font-weight: bold\">=&gt; Function complete &lt;ce1c1013-5193-46e4-a309-ff268101f2da&gt;</span> \n",
       "</pre>\n"
      ],
      "text/plain": [
       "\u001b[1;38;2;76;202;204m=> Function complete \u001b[0m\u001b[1;38;2;76;202;204m<\u001b[0m\u001b[1;38;2;76;202;204mce1c1013-5193-46e4-a309-ff268101f2da\u001b[0m\u001b[1;38;2;76;202;204m>\u001b[0m \n"
      ]
     },
     "metadata": {},
     "output_type": "display_data"
    },
    {
     "data": {
      "text/html": [
       "<pre style=\"white-space:pre;overflow-x:auto;line-height:normal;font-family:Menlo,'DejaVu Sans Mono',consolas,'Courier New',monospace\"></pre>\n"
      ],
      "text/plain": []
     },
     "metadata": {},
     "output_type": "display_data"
    },
    {
     "data": {
      "text/plain": [
       "{'result': 12276}"
      ]
     },
     "execution_count": 2,
     "metadata": {},
     "output_type": "execute_result"
    }
   ],
   "source": [
    "handler.remote()"
   ]
  }
 ],
 "metadata": {
  "kernelspec": {
   "display_name": "Python 3 (ipykernel)",
   "language": "python",
   "name": "python3"
  },
  "language_info": {
   "codemirror_mode": {
    "name": "ipython",
    "version": 3
   },
   "file_extension": ".py",
   "mimetype": "text/x-python",
   "name": "python",
   "nbconvert_exporter": "python",
   "pygments_lexer": "ipython3",
   "version": "3.11.9"
  }
 },
 "nbformat": 4,
 "nbformat_minor": 5
}
